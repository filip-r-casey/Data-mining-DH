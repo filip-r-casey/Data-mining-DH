{
  "nbformat": 4,
  "nbformat_minor": 0,
  "metadata": {
    "colab": {
      "provenance": []
    },
    "kernelspec": {
      "name": "python3",
      "display_name": "Python 3"
    },
    "language_info": {
      "name": "python"
    }
  },
  "cells": [
    {
      "cell_type": "code",
      "execution_count": 1,
      "metadata": {
        "colab": {
          "base_uri": "https://localhost:8080/"
        },
        "id": "Y8G2rKTelDyF",
        "outputId": "b19f45df-e71c-4616-95d8-d4fe21edcd93"
      },
      "outputs": [
        {
          "output_type": "stream",
          "name": "stdout",
          "text": [
            "The composite offensive value (OFV) is: 322.21\n"
          ]
        }
      ],
      "source": [
        "def calculate_ofv(G, AB, R, H, _2B, _3B, HR, RBI, BB, SO, SB, CS, AVG, OBP, SLG, OPS):\n",
        "    # Assigning weights based on research and wOBA calculations\n",
        "    weights = {\n",
        "        'G': 0.1,\n",
        "        'AB': 0.05,\n",
        "        'R': 0.3,\n",
        "        'H': 0.5,\n",
        "        '2B': 1.24,\n",
        "        '3B': 1.56,\n",
        "        'HR': 1.95,\n",
        "        'RBI': 0.8,\n",
        "        'BB': 0.69,\n",
        "        'SO': -0.3,\n",
        "        'SB': 0.25,\n",
        "        'CS': -0.5,\n",
        "        'AVG': 0.3,\n",
        "        'OBP': 0.9,\n",
        "        'SLG': 0.7,\n",
        "        'OPS': 1.2\n",
        "    }\n",
        "\n",
        "    # Calculating the composite value (OFV)\n",
        "    OFV = (\n",
        "        (weights['G'] * G) +\n",
        "        (weights['AB'] * AB) +\n",
        "        (weights['R'] * R) +\n",
        "        (weights['H'] * H) +\n",
        "        (weights['2B'] * _2B) +\n",
        "        (weights['3B'] * _3B) +\n",
        "        (weights['HR'] * HR) +\n",
        "        (weights['RBI'] * RBI) +\n",
        "        (weights['BB'] * BB) +\n",
        "        (weights['SO'] * SO) +\n",
        "        (weights['SB'] * SB) +\n",
        "        (weights['CS'] * CS) +\n",
        "        (weights['AVG'] * AVG) +\n",
        "        (weights['OBP'] * OBP) +\n",
        "        (weights['SLG'] * SLG) +\n",
        "        (weights['OPS'] * OPS)\n",
        "    )\n",
        "\n",
        "    return OFV"
      ]
    }
  ]
}